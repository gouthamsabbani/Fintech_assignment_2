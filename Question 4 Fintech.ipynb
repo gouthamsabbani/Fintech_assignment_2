{
 "cells": [
  {
   "cell_type": "code",
   "execution_count": 20,
   "metadata": {},
   "outputs": [],
   "source": [
    "import requests\n",
    "import json\n",
    "import pandas as pd\n",
    "import datetime"
   ]
  },
  {
   "cell_type": "code",
   "execution_count": 21,
   "metadata": {},
   "outputs": [],
   "source": [
    "lim = '180'\n",
    "pair = ['BTC','BSV','ETH','BCH','LTC','XRP','BNB','XLM','DOGE','SOL','LINK']\n",
    "coins = pd.DataFrame()"
   ]
  },
  {
   "cell_type": "code",
   "execution_count": 22,
   "metadata": {},
   "outputs": [],
   "source": [
    "my_crypto_key = \"ad03ec9af829e8a78c9ec0629324bf5e453b8f2e19732650745c943220eabc96\""
   ]
  },
  {
   "cell_type": "code",
   "execution_count": 23,
   "metadata": {},
   "outputs": [],
   "source": [
    "for i in pair:\n",
    "    URL_A = 'https://min-api.cryptocompare.com/data/histoday?fsym='+i+'&tsym=USD&limit='+lim+ '&api_key='\n",
    "    URL = URL_A + my_crypto_key\n",
    "    data = requests.get(URL)\n",
    "    json_data = data.json()\n",
    "    table = pd.json_normalize(json_data, 'Data').set_index('time')\n",
    "    table.index = pd.to_datetime(table.index ,unit='s')\n",
    "    coins = pd.concat([coins, table.high], axis=1)\n",
    "coins.columns = pair"
   ]
  },
  {
   "cell_type": "code",
   "execution_count": 24,
   "metadata": {},
   "outputs": [
    {
     "data": {
      "text/html": [
       "<div>\n",
       "<style scoped>\n",
       "    .dataframe tbody tr th:only-of-type {\n",
       "        vertical-align: middle;\n",
       "    }\n",
       "\n",
       "    .dataframe tbody tr th {\n",
       "        vertical-align: top;\n",
       "    }\n",
       "\n",
       "    .dataframe thead th {\n",
       "        text-align: right;\n",
       "    }\n",
       "</style>\n",
       "<table border=\"1\" class=\"dataframe\">\n",
       "  <thead>\n",
       "    <tr style=\"text-align: right;\">\n",
       "      <th></th>\n",
       "      <th>BTC</th>\n",
       "      <th>BSV</th>\n",
       "      <th>ETH</th>\n",
       "      <th>BCH</th>\n",
       "      <th>LTC</th>\n",
       "      <th>XRP</th>\n",
       "      <th>BNB</th>\n",
       "      <th>XLM</th>\n",
       "      <th>DOGE</th>\n",
       "      <th>SOL</th>\n",
       "      <th>LINK</th>\n",
       "    </tr>\n",
       "  </thead>\n",
       "  <tbody>\n",
       "    <tr>\n",
       "      <th>2021-02-10</th>\n",
       "      <td>47349.86</td>\n",
       "      <td>228.72</td>\n",
       "      <td>1838.93</td>\n",
       "      <td>516.28</td>\n",
       "      <td>195.19</td>\n",
       "      <td>0.5417</td>\n",
       "      <td>142.77</td>\n",
       "      <td>0.4449</td>\n",
       "      <td>0.08136</td>\n",
       "      <td>9.070</td>\n",
       "      <td>28.64</td>\n",
       "    </tr>\n",
       "    <tr>\n",
       "      <th>2021-02-11</th>\n",
       "      <td>48664.81</td>\n",
       "      <td>230.00</td>\n",
       "      <td>1818.43</td>\n",
       "      <td>551.59</td>\n",
       "      <td>193.50</td>\n",
       "      <td>0.5355</td>\n",
       "      <td>139.94</td>\n",
       "      <td>0.4700</td>\n",
       "      <td>0.07508</td>\n",
       "      <td>9.695</td>\n",
       "      <td>28.57</td>\n",
       "    </tr>\n",
       "    <tr>\n",
       "      <th>2021-02-12</th>\n",
       "      <td>48930.99</td>\n",
       "      <td>236.42</td>\n",
       "      <td>1867.10</td>\n",
       "      <td>581.15</td>\n",
       "      <td>199.98</td>\n",
       "      <td>0.6200</td>\n",
       "      <td>140.65</td>\n",
       "      <td>0.5380</td>\n",
       "      <td>0.07312</td>\n",
       "      <td>9.905</td>\n",
       "      <td>31.49</td>\n",
       "    </tr>\n",
       "    <tr>\n",
       "      <th>2021-02-13</th>\n",
       "      <td>48171.46</td>\n",
       "      <td>270.16</td>\n",
       "      <td>1875.55</td>\n",
       "      <td>668.97</td>\n",
       "      <td>229.21</td>\n",
       "      <td>0.6430</td>\n",
       "      <td>137.98</td>\n",
       "      <td>0.6079</td>\n",
       "      <td>0.07190</td>\n",
       "      <td>9.519</td>\n",
       "      <td>34.76</td>\n",
       "    </tr>\n",
       "    <tr>\n",
       "      <th>2021-02-14</th>\n",
       "      <td>49642.39</td>\n",
       "      <td>291.43</td>\n",
       "      <td>1852.06</td>\n",
       "      <td>752.00</td>\n",
       "      <td>234.90</td>\n",
       "      <td>0.6403</td>\n",
       "      <td>138.56</td>\n",
       "      <td>0.5782</td>\n",
       "      <td>0.06649</td>\n",
       "      <td>9.208</td>\n",
       "      <td>35.73</td>\n",
       "    </tr>\n",
       "    <tr>\n",
       "      <th>...</th>\n",
       "      <td>...</td>\n",
       "      <td>...</td>\n",
       "      <td>...</td>\n",
       "      <td>...</td>\n",
       "      <td>...</td>\n",
       "      <td>...</td>\n",
       "      <td>...</td>\n",
       "      <td>...</td>\n",
       "      <td>...</td>\n",
       "      <td>...</td>\n",
       "      <td>...</td>\n",
       "    </tr>\n",
       "    <tr>\n",
       "      <th>2021-08-05</th>\n",
       "      <td>41409.14</td>\n",
       "      <td>149.49</td>\n",
       "      <td>2844.03</td>\n",
       "      <td>550.69</td>\n",
       "      <td>145.15</td>\n",
       "      <td>0.7390</td>\n",
       "      <td>355.03</td>\n",
       "      <td>0.2828</td>\n",
       "      <td>0.20230</td>\n",
       "      <td>38.240</td>\n",
       "      <td>24.32</td>\n",
       "    </tr>\n",
       "    <tr>\n",
       "      <th>2021-08-06</th>\n",
       "      <td>43363.62</td>\n",
       "      <td>150.67</td>\n",
       "      <td>2949.04</td>\n",
       "      <td>560.94</td>\n",
       "      <td>150.90</td>\n",
       "      <td>0.7527</td>\n",
       "      <td>359.79</td>\n",
       "      <td>0.2863</td>\n",
       "      <td>0.21190</td>\n",
       "      <td>40.400</td>\n",
       "      <td>24.40</td>\n",
       "    </tr>\n",
       "    <tr>\n",
       "      <th>2021-08-07</th>\n",
       "      <td>44731.51</td>\n",
       "      <td>163.44</td>\n",
       "      <td>3172.52</td>\n",
       "      <td>590.47</td>\n",
       "      <td>156.45</td>\n",
       "      <td>0.8183</td>\n",
       "      <td>359.76</td>\n",
       "      <td>0.3117</td>\n",
       "      <td>0.26280</td>\n",
       "      <td>40.500</td>\n",
       "      <td>25.17</td>\n",
       "    </tr>\n",
       "    <tr>\n",
       "      <th>2021-08-08</th>\n",
       "      <td>45310.33</td>\n",
       "      <td>152.78</td>\n",
       "      <td>3190.38</td>\n",
       "      <td>578.09</td>\n",
       "      <td>157.64</td>\n",
       "      <td>0.8399</td>\n",
       "      <td>360.06</td>\n",
       "      <td>0.3134</td>\n",
       "      <td>0.28190</td>\n",
       "      <td>39.570</td>\n",
       "      <td>24.90</td>\n",
       "    </tr>\n",
       "    <tr>\n",
       "      <th>2021-08-09</th>\n",
       "      <td>46476.01</td>\n",
       "      <td>155.86</td>\n",
       "      <td>3187.64</td>\n",
       "      <td>600.47</td>\n",
       "      <td>170.52</td>\n",
       "      <td>0.8279</td>\n",
       "      <td>358.03</td>\n",
       "      <td>0.3056</td>\n",
       "      <td>0.26650</td>\n",
       "      <td>40.030</td>\n",
       "      <td>24.69</td>\n",
       "    </tr>\n",
       "  </tbody>\n",
       "</table>\n",
       "<p>181 rows × 11 columns</p>\n",
       "</div>"
      ],
      "text/plain": [
       "                 BTC     BSV      ETH     BCH     LTC     XRP     BNB     XLM  \\\n",
       "2021-02-10  47349.86  228.72  1838.93  516.28  195.19  0.5417  142.77  0.4449   \n",
       "2021-02-11  48664.81  230.00  1818.43  551.59  193.50  0.5355  139.94  0.4700   \n",
       "2021-02-12  48930.99  236.42  1867.10  581.15  199.98  0.6200  140.65  0.5380   \n",
       "2021-02-13  48171.46  270.16  1875.55  668.97  229.21  0.6430  137.98  0.6079   \n",
       "2021-02-14  49642.39  291.43  1852.06  752.00  234.90  0.6403  138.56  0.5782   \n",
       "...              ...     ...      ...     ...     ...     ...     ...     ...   \n",
       "2021-08-05  41409.14  149.49  2844.03  550.69  145.15  0.7390  355.03  0.2828   \n",
       "2021-08-06  43363.62  150.67  2949.04  560.94  150.90  0.7527  359.79  0.2863   \n",
       "2021-08-07  44731.51  163.44  3172.52  590.47  156.45  0.8183  359.76  0.3117   \n",
       "2021-08-08  45310.33  152.78  3190.38  578.09  157.64  0.8399  360.06  0.3134   \n",
       "2021-08-09  46476.01  155.86  3187.64  600.47  170.52  0.8279  358.03  0.3056   \n",
       "\n",
       "               DOGE     SOL   LINK  \n",
       "2021-02-10  0.08136   9.070  28.64  \n",
       "2021-02-11  0.07508   9.695  28.57  \n",
       "2021-02-12  0.07312   9.905  31.49  \n",
       "2021-02-13  0.07190   9.519  34.76  \n",
       "2021-02-14  0.06649   9.208  35.73  \n",
       "...             ...     ...    ...  \n",
       "2021-08-05  0.20230  38.240  24.32  \n",
       "2021-08-06  0.21190  40.400  24.40  \n",
       "2021-08-07  0.26280  40.500  25.17  \n",
       "2021-08-08  0.28190  39.570  24.90  \n",
       "2021-08-09  0.26650  40.030  24.69  \n",
       "\n",
       "[181 rows x 11 columns]"
      ]
     },
     "execution_count": 24,
     "metadata": {},
     "output_type": "execute_result"
    }
   ],
   "source": [
    "coins.columns = pair\n",
    "coins = coins[pair]\n",
    "coins"
   ]
  },
  {
   "cell_type": "code",
   "execution_count": 25,
   "metadata": {},
   "outputs": [],
   "source": [
    "coins_lagged=coins.copy()\n",
    "trailing_window_size = 1\n",
    "for window in range(1, trailing_window_size +1):\n",
    "    shifted = coins.shift(window)\n",
    "    shifted.columns = [x + \"_lag\" + str(window) for x in coins.columns]\n",
    "    \n",
    "    coins_lagged = pd.concat((coins_lagged, shifted), axis=1)\n",
    "coins_lagged = coins_lagged.dropna()"
   ]
  },
  {
   "cell_type": "code",
   "execution_count": 26,
   "metadata": {},
   "outputs": [
    {
     "data": {
      "text/html": [
       "<div>\n",
       "<style scoped>\n",
       "    .dataframe tbody tr th:only-of-type {\n",
       "        vertical-align: middle;\n",
       "    }\n",
       "\n",
       "    .dataframe tbody tr th {\n",
       "        vertical-align: top;\n",
       "    }\n",
       "\n",
       "    .dataframe thead th {\n",
       "        text-align: right;\n",
       "    }\n",
       "</style>\n",
       "<table border=\"1\" class=\"dataframe\">\n",
       "  <thead>\n",
       "    <tr style=\"text-align: right;\">\n",
       "      <th></th>\n",
       "      <th>BTC</th>\n",
       "      <th>BSV</th>\n",
       "      <th>ETH</th>\n",
       "      <th>BCH</th>\n",
       "      <th>LTC</th>\n",
       "      <th>XRP</th>\n",
       "      <th>BNB</th>\n",
       "      <th>XLM</th>\n",
       "      <th>DOGE</th>\n",
       "      <th>SOL</th>\n",
       "      <th>...</th>\n",
       "      <th>BSV_lag1</th>\n",
       "      <th>ETH_lag1</th>\n",
       "      <th>BCH_lag1</th>\n",
       "      <th>LTC_lag1</th>\n",
       "      <th>XRP_lag1</th>\n",
       "      <th>BNB_lag1</th>\n",
       "      <th>XLM_lag1</th>\n",
       "      <th>DOGE_lag1</th>\n",
       "      <th>SOL_lag1</th>\n",
       "      <th>LINK_lag1</th>\n",
       "    </tr>\n",
       "  </thead>\n",
       "  <tbody>\n",
       "    <tr>\n",
       "      <th>2021-02-11</th>\n",
       "      <td>48664.81</td>\n",
       "      <td>230.00</td>\n",
       "      <td>1818.43</td>\n",
       "      <td>551.59</td>\n",
       "      <td>193.50</td>\n",
       "      <td>0.5355</td>\n",
       "      <td>139.94</td>\n",
       "      <td>0.4700</td>\n",
       "      <td>0.07508</td>\n",
       "      <td>9.695</td>\n",
       "      <td>...</td>\n",
       "      <td>228.72</td>\n",
       "      <td>1838.93</td>\n",
       "      <td>516.28</td>\n",
       "      <td>195.19</td>\n",
       "      <td>0.5417</td>\n",
       "      <td>142.77</td>\n",
       "      <td>0.4449</td>\n",
       "      <td>0.08136</td>\n",
       "      <td>9.070</td>\n",
       "      <td>28.64</td>\n",
       "    </tr>\n",
       "    <tr>\n",
       "      <th>2021-02-12</th>\n",
       "      <td>48930.99</td>\n",
       "      <td>236.42</td>\n",
       "      <td>1867.10</td>\n",
       "      <td>581.15</td>\n",
       "      <td>199.98</td>\n",
       "      <td>0.6200</td>\n",
       "      <td>140.65</td>\n",
       "      <td>0.5380</td>\n",
       "      <td>0.07312</td>\n",
       "      <td>9.905</td>\n",
       "      <td>...</td>\n",
       "      <td>230.00</td>\n",
       "      <td>1818.43</td>\n",
       "      <td>551.59</td>\n",
       "      <td>193.50</td>\n",
       "      <td>0.5355</td>\n",
       "      <td>139.94</td>\n",
       "      <td>0.4700</td>\n",
       "      <td>0.07508</td>\n",
       "      <td>9.695</td>\n",
       "      <td>28.57</td>\n",
       "    </tr>\n",
       "    <tr>\n",
       "      <th>2021-02-13</th>\n",
       "      <td>48171.46</td>\n",
       "      <td>270.16</td>\n",
       "      <td>1875.55</td>\n",
       "      <td>668.97</td>\n",
       "      <td>229.21</td>\n",
       "      <td>0.6430</td>\n",
       "      <td>137.98</td>\n",
       "      <td>0.6079</td>\n",
       "      <td>0.07190</td>\n",
       "      <td>9.519</td>\n",
       "      <td>...</td>\n",
       "      <td>236.42</td>\n",
       "      <td>1867.10</td>\n",
       "      <td>581.15</td>\n",
       "      <td>199.98</td>\n",
       "      <td>0.6200</td>\n",
       "      <td>140.65</td>\n",
       "      <td>0.5380</td>\n",
       "      <td>0.07312</td>\n",
       "      <td>9.905</td>\n",
       "      <td>31.49</td>\n",
       "    </tr>\n",
       "    <tr>\n",
       "      <th>2021-02-14</th>\n",
       "      <td>49642.39</td>\n",
       "      <td>291.43</td>\n",
       "      <td>1852.06</td>\n",
       "      <td>752.00</td>\n",
       "      <td>234.90</td>\n",
       "      <td>0.6403</td>\n",
       "      <td>138.56</td>\n",
       "      <td>0.5782</td>\n",
       "      <td>0.06649</td>\n",
       "      <td>9.208</td>\n",
       "      <td>...</td>\n",
       "      <td>270.16</td>\n",
       "      <td>1875.55</td>\n",
       "      <td>668.97</td>\n",
       "      <td>229.21</td>\n",
       "      <td>0.6430</td>\n",
       "      <td>137.98</td>\n",
       "      <td>0.6079</td>\n",
       "      <td>0.07190</td>\n",
       "      <td>9.519</td>\n",
       "      <td>34.76</td>\n",
       "    </tr>\n",
       "    <tr>\n",
       "      <th>2021-02-15</th>\n",
       "      <td>49031.74</td>\n",
       "      <td>269.07</td>\n",
       "      <td>1836.25</td>\n",
       "      <td>773.37</td>\n",
       "      <td>219.98</td>\n",
       "      <td>0.6040</td>\n",
       "      <td>137.10</td>\n",
       "      <td>0.5400</td>\n",
       "      <td>0.06405</td>\n",
       "      <td>9.304</td>\n",
       "      <td>...</td>\n",
       "      <td>291.43</td>\n",
       "      <td>1852.06</td>\n",
       "      <td>752.00</td>\n",
       "      <td>234.90</td>\n",
       "      <td>0.6403</td>\n",
       "      <td>138.56</td>\n",
       "      <td>0.5782</td>\n",
       "      <td>0.06649</td>\n",
       "      <td>9.208</td>\n",
       "      <td>35.73</td>\n",
       "    </tr>\n",
       "    <tr>\n",
       "      <th>...</th>\n",
       "      <td>...</td>\n",
       "      <td>...</td>\n",
       "      <td>...</td>\n",
       "      <td>...</td>\n",
       "      <td>...</td>\n",
       "      <td>...</td>\n",
       "      <td>...</td>\n",
       "      <td>...</td>\n",
       "      <td>...</td>\n",
       "      <td>...</td>\n",
       "      <td>...</td>\n",
       "      <td>...</td>\n",
       "      <td>...</td>\n",
       "      <td>...</td>\n",
       "      <td>...</td>\n",
       "      <td>...</td>\n",
       "      <td>...</td>\n",
       "      <td>...</td>\n",
       "      <td>...</td>\n",
       "      <td>...</td>\n",
       "      <td>...</td>\n",
       "    </tr>\n",
       "    <tr>\n",
       "      <th>2021-08-05</th>\n",
       "      <td>41409.14</td>\n",
       "      <td>149.49</td>\n",
       "      <td>2844.03</td>\n",
       "      <td>550.69</td>\n",
       "      <td>145.15</td>\n",
       "      <td>0.7390</td>\n",
       "      <td>355.03</td>\n",
       "      <td>0.2828</td>\n",
       "      <td>0.20230</td>\n",
       "      <td>38.240</td>\n",
       "      <td>...</td>\n",
       "      <td>143.97</td>\n",
       "      <td>2770.24</td>\n",
       "      <td>552.26</td>\n",
       "      <td>144.45</td>\n",
       "      <td>0.7394</td>\n",
       "      <td>337.21</td>\n",
       "      <td>0.2840</td>\n",
       "      <td>0.20320</td>\n",
       "      <td>36.650</td>\n",
       "      <td>24.99</td>\n",
       "    </tr>\n",
       "    <tr>\n",
       "      <th>2021-08-06</th>\n",
       "      <td>43363.62</td>\n",
       "      <td>150.67</td>\n",
       "      <td>2949.04</td>\n",
       "      <td>560.94</td>\n",
       "      <td>150.90</td>\n",
       "      <td>0.7527</td>\n",
       "      <td>359.79</td>\n",
       "      <td>0.2863</td>\n",
       "      <td>0.21190</td>\n",
       "      <td>40.400</td>\n",
       "      <td>...</td>\n",
       "      <td>149.49</td>\n",
       "      <td>2844.03</td>\n",
       "      <td>550.69</td>\n",
       "      <td>145.15</td>\n",
       "      <td>0.7390</td>\n",
       "      <td>355.03</td>\n",
       "      <td>0.2828</td>\n",
       "      <td>0.20230</td>\n",
       "      <td>38.240</td>\n",
       "      <td>24.32</td>\n",
       "    </tr>\n",
       "    <tr>\n",
       "      <th>2021-08-07</th>\n",
       "      <td>44731.51</td>\n",
       "      <td>163.44</td>\n",
       "      <td>3172.52</td>\n",
       "      <td>590.47</td>\n",
       "      <td>156.45</td>\n",
       "      <td>0.8183</td>\n",
       "      <td>359.76</td>\n",
       "      <td>0.3117</td>\n",
       "      <td>0.26280</td>\n",
       "      <td>40.500</td>\n",
       "      <td>...</td>\n",
       "      <td>150.67</td>\n",
       "      <td>2949.04</td>\n",
       "      <td>560.94</td>\n",
       "      <td>150.90</td>\n",
       "      <td>0.7527</td>\n",
       "      <td>359.79</td>\n",
       "      <td>0.2863</td>\n",
       "      <td>0.21190</td>\n",
       "      <td>40.400</td>\n",
       "      <td>24.40</td>\n",
       "    </tr>\n",
       "    <tr>\n",
       "      <th>2021-08-08</th>\n",
       "      <td>45310.33</td>\n",
       "      <td>152.78</td>\n",
       "      <td>3190.38</td>\n",
       "      <td>578.09</td>\n",
       "      <td>157.64</td>\n",
       "      <td>0.8399</td>\n",
       "      <td>360.06</td>\n",
       "      <td>0.3134</td>\n",
       "      <td>0.28190</td>\n",
       "      <td>39.570</td>\n",
       "      <td>...</td>\n",
       "      <td>163.44</td>\n",
       "      <td>3172.52</td>\n",
       "      <td>590.47</td>\n",
       "      <td>156.45</td>\n",
       "      <td>0.8183</td>\n",
       "      <td>359.76</td>\n",
       "      <td>0.3117</td>\n",
       "      <td>0.26280</td>\n",
       "      <td>40.500</td>\n",
       "      <td>25.17</td>\n",
       "    </tr>\n",
       "    <tr>\n",
       "      <th>2021-08-09</th>\n",
       "      <td>46476.01</td>\n",
       "      <td>155.86</td>\n",
       "      <td>3187.64</td>\n",
       "      <td>600.47</td>\n",
       "      <td>170.52</td>\n",
       "      <td>0.8279</td>\n",
       "      <td>358.03</td>\n",
       "      <td>0.3056</td>\n",
       "      <td>0.26650</td>\n",
       "      <td>40.030</td>\n",
       "      <td>...</td>\n",
       "      <td>152.78</td>\n",
       "      <td>3190.38</td>\n",
       "      <td>578.09</td>\n",
       "      <td>157.64</td>\n",
       "      <td>0.8399</td>\n",
       "      <td>360.06</td>\n",
       "      <td>0.3134</td>\n",
       "      <td>0.28190</td>\n",
       "      <td>39.570</td>\n",
       "      <td>24.90</td>\n",
       "    </tr>\n",
       "  </tbody>\n",
       "</table>\n",
       "<p>180 rows × 22 columns</p>\n",
       "</div>"
      ],
      "text/plain": [
       "                 BTC     BSV      ETH     BCH     LTC     XRP     BNB     XLM  \\\n",
       "2021-02-11  48664.81  230.00  1818.43  551.59  193.50  0.5355  139.94  0.4700   \n",
       "2021-02-12  48930.99  236.42  1867.10  581.15  199.98  0.6200  140.65  0.5380   \n",
       "2021-02-13  48171.46  270.16  1875.55  668.97  229.21  0.6430  137.98  0.6079   \n",
       "2021-02-14  49642.39  291.43  1852.06  752.00  234.90  0.6403  138.56  0.5782   \n",
       "2021-02-15  49031.74  269.07  1836.25  773.37  219.98  0.6040  137.10  0.5400   \n",
       "...              ...     ...      ...     ...     ...     ...     ...     ...   \n",
       "2021-08-05  41409.14  149.49  2844.03  550.69  145.15  0.7390  355.03  0.2828   \n",
       "2021-08-06  43363.62  150.67  2949.04  560.94  150.90  0.7527  359.79  0.2863   \n",
       "2021-08-07  44731.51  163.44  3172.52  590.47  156.45  0.8183  359.76  0.3117   \n",
       "2021-08-08  45310.33  152.78  3190.38  578.09  157.64  0.8399  360.06  0.3134   \n",
       "2021-08-09  46476.01  155.86  3187.64  600.47  170.52  0.8279  358.03  0.3056   \n",
       "\n",
       "               DOGE     SOL  ...  BSV_lag1  ETH_lag1  BCH_lag1  LTC_lag1  \\\n",
       "2021-02-11  0.07508   9.695  ...    228.72   1838.93    516.28    195.19   \n",
       "2021-02-12  0.07312   9.905  ...    230.00   1818.43    551.59    193.50   \n",
       "2021-02-13  0.07190   9.519  ...    236.42   1867.10    581.15    199.98   \n",
       "2021-02-14  0.06649   9.208  ...    270.16   1875.55    668.97    229.21   \n",
       "2021-02-15  0.06405   9.304  ...    291.43   1852.06    752.00    234.90   \n",
       "...             ...     ...  ...       ...       ...       ...       ...   \n",
       "2021-08-05  0.20230  38.240  ...    143.97   2770.24    552.26    144.45   \n",
       "2021-08-06  0.21190  40.400  ...    149.49   2844.03    550.69    145.15   \n",
       "2021-08-07  0.26280  40.500  ...    150.67   2949.04    560.94    150.90   \n",
       "2021-08-08  0.28190  39.570  ...    163.44   3172.52    590.47    156.45   \n",
       "2021-08-09  0.26650  40.030  ...    152.78   3190.38    578.09    157.64   \n",
       "\n",
       "            XRP_lag1  BNB_lag1  XLM_lag1  DOGE_lag1  SOL_lag1  LINK_lag1  \n",
       "2021-02-11    0.5417    142.77    0.4449    0.08136     9.070      28.64  \n",
       "2021-02-12    0.5355    139.94    0.4700    0.07508     9.695      28.57  \n",
       "2021-02-13    0.6200    140.65    0.5380    0.07312     9.905      31.49  \n",
       "2021-02-14    0.6430    137.98    0.6079    0.07190     9.519      34.76  \n",
       "2021-02-15    0.6403    138.56    0.5782    0.06649     9.208      35.73  \n",
       "...              ...       ...       ...        ...       ...        ...  \n",
       "2021-08-05    0.7394    337.21    0.2840    0.20320    36.650      24.99  \n",
       "2021-08-06    0.7390    355.03    0.2828    0.20230    38.240      24.32  \n",
       "2021-08-07    0.7527    359.79    0.2863    0.21190    40.400      24.40  \n",
       "2021-08-08    0.8183    359.76    0.3117    0.26280    40.500      25.17  \n",
       "2021-08-09    0.8399    360.06    0.3134    0.28190    39.570      24.90  \n",
       "\n",
       "[180 rows x 22 columns]"
      ]
     },
     "execution_count": 26,
     "metadata": {},
     "output_type": "execute_result"
    }
   ],
   "source": [
    "coins_lagged"
   ]
  },
  {
   "cell_type": "code",
   "execution_count": 27,
   "metadata": {},
   "outputs": [],
   "source": [
    "coins_lagged.to_csv('cryto_prices_data.csv', index_label='time')"
   ]
  },
  {
   "cell_type": "code",
   "execution_count": 28,
   "metadata": {},
   "outputs": [],
   "source": [
    "df = pd.read_csv('cryto_prices_data.csv', index_col='time')"
   ]
  },
  {
   "cell_type": "code",
   "execution_count": 29,
   "metadata": {},
   "outputs": [],
   "source": [
    "df.index = pd.to_datetime(df.index)\n",
    "df.index = df.index.normalize()"
   ]
  },
  {
   "cell_type": "code",
   "execution_count": 30,
   "metadata": {},
   "outputs": [],
   "source": [
    "from sklearn.preprocessing import StandardScaler\n",
    "import matplotlib.pyplot as plt"
   ]
  },
  {
   "cell_type": "code",
   "execution_count": 31,
   "metadata": {},
   "outputs": [],
   "source": [
    "sc_x = StandardScaler()\n",
    "df_scaled = pd.DataFrame(sc_x.fit_transform(df), index=df.index, columns=df.columns)"
   ]
  },
  {
   "cell_type": "code",
   "execution_count": 32,
   "metadata": {},
   "outputs": [
    {
     "data": {
      "text/plain": [
       "[<matplotlib.lines.Line2D at 0x7fe2707a4760>]"
      ]
     },
     "execution_count": 32,
     "metadata": {},
     "output_type": "execute_result"
    },
    {
     "data": {
      "image/png": "[encoded data removed]",
      "text/plain": [
       "<Figure size 432x288 with 1 Axes>"
      ]
     },
     "metadata": {
      "needs_background": "light"
     },
     "output_type": "display_data"
    }
   ],
   "source": [
    "plt.plot(df_scaled.index, df_scaled['BSV'], color='green')\n",
    "plt.plot(df_scaled.index, df_scaled['BTC'], color='red')\n",
    "plt.plot(df_scaled.index, df_scaled['ETH'], color='blue')"
   ]
  },
  {
   "cell_type": "code",
   "execution_count": 33,
   "metadata": {},
   "outputs": [],
   "source": [
    "split = int(int(lim)/2)"
   ]
  },
  {
   "cell_type": "code",
   "execution_count": 34,
   "metadata": {},
   "outputs": [],
   "source": [
    "Ytrain = pd.DataFrame(df_scaled[:split]['BTC'])\n",
    "Ytest = pd.DataFrame(df_scaled[split:]['BTC'])"
   ]
  },
  {
   "cell_type": "code",
   "execution_count": 36,
   "metadata": {},
   "outputs": [],
   "source": [
    "X = df_scaled[['BTC_lag1','BSV_lag1', 'ETH_lag1','BCH_lag1','LTC_lag1','XRP_lag1','BNB_lag1','XLM_lag1','DOGE_lag1','SOL_lag1','LINK_lag1']]"
   ]
  },
  {
   "cell_type": "code",
   "execution_count": 37,
   "metadata": {},
   "outputs": [],
   "source": [
    "from sklearn.linear_model import ElasticNet"
   ]
  },
  {
   "cell_type": "code",
   "execution_count": 38,
   "metadata": {},
   "outputs": [],
   "source": [
    "en = ElasticNet(alpha=0.1, normalize=False)"
   ]
  },
  {
   "cell_type": "code",
   "execution_count": 39,
   "metadata": {},
   "outputs": [
    {
     "data": {
      "text/plain": [
       "ElasticNet(alpha=0.1)"
      ]
     },
     "execution_count": 39,
     "metadata": {},
     "output_type": "execute_result"
    }
   ],
   "source": [
    "en.fit(X[:split], Ytrain)"
   ]
  },
  {
   "cell_type": "code",
   "execution_count": 40,
   "metadata": {},
   "outputs": [
    {
     "data": {
      "text/plain": [
       "[0.4239567755334856,\n",
       " 0.0,\n",
       " 0.0,\n",
       " -0.0,\n",
       " 0.0,\n",
       " 0.0,\n",
       " 0.058835139653542715,\n",
       " 0.0,\n",
       " -0.0,\n",
       " 0.0,\n",
       " 0.0]"
      ]
     },
     "execution_count": 40,
     "metadata": {},
     "output_type": "execute_result"
    }
   ],
   "source": [
    "coef = list(en.coef_)\n",
    "coef"
   ]
  },
  {
   "cell_type": "code",
   "execution_count": 41,
   "metadata": {},
   "outputs": [
    {
     "name": "stdout",
     "output_type": "stream",
     "text": [
      "BTC_lag1 : 0.4239567755334856\n",
      "BSV_lag1 : 0.0\n",
      "ETH_lag1 : 0.0\n",
      "BCH_lag1 : -0.0\n",
      "LTC_lag1 : 0.0\n",
      "XRP_lag1 : 0.0\n",
      "BNB_lag1 : 0.058835139653542715\n",
      "XLM_lag1 : 0.0\n",
      "DOGE_lag1 : -0.0\n",
      "SOL_lag1 : 0.0\n",
      "LINK_lag1 : 0.0\n"
     ]
    }
   ],
   "source": [
    "count = 0\n",
    "for i in X.columns:\n",
    "    print(i, ':', coef[count])\n",
    "    count = count + 1"
   ]
  },
  {
   "cell_type": "code",
   "execution_count": 42,
   "metadata": {},
   "outputs": [],
   "source": [
    "import numpy as np"
   ]
  },
  {
   "cell_type": "code",
   "execution_count": 43,
   "metadata": {},
   "outputs": [
    {
     "data": {
      "text/plain": [
       "time\n",
       "2021-02-11   -0.104150\n",
       "2021-02-12   -0.050108\n",
       "2021-02-13   -0.038599\n",
       "2021-02-14   -0.071727\n",
       "2021-02-15   -0.009610\n",
       "                ...   \n",
       "2021-08-05   -0.328491\n",
       "2021-08-06   -0.259678\n",
       "2021-08-07   -0.175369\n",
       "2021-08-08   -0.117856\n",
       "2021-08-09   -0.093381\n",
       "Freq: D, Length: 180, dtype: float64"
      ]
     },
     "execution_count": 43,
     "metadata": {},
     "output_type": "execute_result"
    }
   ],
   "source": [
    "BTC_fitted = X.dot(coef)\n",
    "BTC_fitted"
   ]
  },
  {
   "cell_type": "code",
   "execution_count": 44,
   "metadata": {},
   "outputs": [
    {
     "data": {
      "text/html": [
       "<div>\n",
       "<style scoped>\n",
       "    .dataframe tbody tr th:only-of-type {\n",
       "        vertical-align: middle;\n",
       "    }\n",
       "\n",
       "    .dataframe tbody tr th {\n",
       "        vertical-align: top;\n",
       "    }\n",
       "\n",
       "    .dataframe thead th {\n",
       "        text-align: right;\n",
       "    }\n",
       "</style>\n",
       "<table border=\"1\" class=\"dataframe\">\n",
       "  <thead>\n",
       "    <tr style=\"text-align: right;\">\n",
       "      <th></th>\n",
       "      <th>BTC</th>\n",
       "    </tr>\n",
       "    <tr>\n",
       "      <th>time</th>\n",
       "      <th></th>\n",
       "    </tr>\n",
       "  </thead>\n",
       "  <tbody>\n",
       "    <tr>\n",
       "      <th>2021-02-11</th>\n",
       "      <td>0.125190</td>\n",
       "    </tr>\n",
       "    <tr>\n",
       "      <th>2021-02-12</th>\n",
       "      <td>0.151593</td>\n",
       "    </tr>\n",
       "    <tr>\n",
       "      <th>2021-02-13</th>\n",
       "      <td>0.076253</td>\n",
       "    </tr>\n",
       "    <tr>\n",
       "      <th>2021-02-14</th>\n",
       "      <td>0.222158</td>\n",
       "    </tr>\n",
       "    <tr>\n",
       "      <th>2021-02-15</th>\n",
       "      <td>0.161586</td>\n",
       "    </tr>\n",
       "    <tr>\n",
       "      <th>...</th>\n",
       "      <td>...</td>\n",
       "    </tr>\n",
       "    <tr>\n",
       "      <th>2021-08-05</th>\n",
       "      <td>-0.594518</td>\n",
       "    </tr>\n",
       "    <tr>\n",
       "      <th>2021-08-06</th>\n",
       "      <td>-0.400648</td>\n",
       "    </tr>\n",
       "    <tr>\n",
       "      <th>2021-08-07</th>\n",
       "      <td>-0.264964</td>\n",
       "    </tr>\n",
       "    <tr>\n",
       "      <th>2021-08-08</th>\n",
       "      <td>-0.207549</td>\n",
       "    </tr>\n",
       "    <tr>\n",
       "      <th>2021-08-09</th>\n",
       "      <td>-0.091923</td>\n",
       "    </tr>\n",
       "  </tbody>\n",
       "</table>\n",
       "<p>180 rows × 1 columns</p>\n",
       "</div>"
      ],
      "text/plain": [
       "                 BTC\n",
       "time                \n",
       "2021-02-11  0.125190\n",
       "2021-02-12  0.151593\n",
       "2021-02-13  0.076253\n",
       "2021-02-14  0.222158\n",
       "2021-02-15  0.161586\n",
       "...              ...\n",
       "2021-08-05 -0.594518\n",
       "2021-08-06 -0.400648\n",
       "2021-08-07 -0.264964\n",
       "2021-08-08 -0.207549\n",
       "2021-08-09 -0.091923\n",
       "\n",
       "[180 rows x 1 columns]"
      ]
     },
     "execution_count": 44,
     "metadata": {},
     "output_type": "execute_result"
    }
   ],
   "source": [
    "BTC_actual = df_scaled[['BTC']]\n",
    "BTC_actual"
   ]
  },
  {
   "cell_type": "code",
   "execution_count": 45,
   "metadata": {},
   "outputs": [
    {
     "data": {
      "text/plain": [
       "[<matplotlib.lines.Line2D at 0x7fe23012bfa0>]"
      ]
     },
     "execution_count": 45,
     "metadata": {},
     "output_type": "execute_result"
    },
    {
     "data": {
      "image/png": "[encoded data removed]",
      "text/plain": [
       "<Figure size 432x288 with 1 Axes>"
      ]
     },
     "metadata": {
      "needs_background": "light"
     },
     "output_type": "display_data"
    }
   ],
   "source": [
    "plt.plot(df_scaled.index, BTC_fitted, color='green')\n",
    "plt.plot(df_scaled.index, BTC_actual , color='red')"
   ]
  },
  {
   "cell_type": "code",
   "execution_count": 46,
   "metadata": {},
   "outputs": [],
   "source": [
    "y = BTC_actual\n",
    "X = BTC_fitted"
   ]
  },
  {
   "cell_type": "code",
   "execution_count": 47,
   "metadata": {},
   "outputs": [],
   "source": [
    "y = y.values.reshape(-1,1)\n",
    "X = X.values.reshape(-1,1)"
   ]
  },
  {
   "cell_type": "code",
   "execution_count": 48,
   "metadata": {},
   "outputs": [],
   "source": [
    "sample_size = len(df_scaled)"
   ]
  },
  {
   "cell_type": "code",
   "execution_count": 49,
   "metadata": {},
   "outputs": [],
   "source": [
    "squared_residuals = np.square(X-y)"
   ]
  },
  {
   "cell_type": "code",
   "execution_count": 50,
   "metadata": {},
   "outputs": [
    {
     "data": {
      "text/plain": [
       "58.654498013923856"
      ]
     },
     "execution_count": 50,
     "metadata": {},
     "output_type": "execute_result"
    }
   ],
   "source": [
    "sum_squared_residuals = np.sum(squared_residuals)\n",
    "sum_squared_residuals"
   ]
  },
  {
   "cell_type": "code",
   "execution_count": 51,
   "metadata": {},
   "outputs": [
    {
     "data": {
      "text/plain": [
       "0.32585832229957695"
      ]
     },
     "execution_count": 51,
     "metadata": {},
     "output_type": "execute_result"
    }
   ],
   "source": [
    "MSE = sum_squared_residuals/sample_size\n",
    "MSE"
   ]
  },
  {
   "cell_type": "code",
   "execution_count": 52,
   "metadata": {},
   "outputs": [],
   "source": [
    "from sklearn.linear_model import LinearRegression"
   ]
  },
  {
   "cell_type": "code",
   "execution_count": 53,
   "metadata": {},
   "outputs": [],
   "source": [
    "X = df_scaled[['BTC_lag1']]"
   ]
  },
  {
   "cell_type": "code",
   "execution_count": 54,
   "metadata": {},
   "outputs": [],
   "source": [
    "y = df_scaled['BTC']"
   ]
  },
  {
   "cell_type": "code",
   "execution_count": 55,
   "metadata": {},
   "outputs": [],
   "source": [
    "y = y.values.reshape(-1,1)\n",
    "X = X.values.reshape(-1,1)"
   ]
  },
  {
   "cell_type": "code",
   "execution_count": 56,
   "metadata": {},
   "outputs": [],
   "source": [
    "lr = LinearRegression()"
   ]
  },
  {
   "cell_type": "code",
   "execution_count": 57,
   "metadata": {},
   "outputs": [
    {
     "name": "stdout",
     "output_type": "stream",
     "text": [
      "[1.02838636e-15] [[0.98703691]]\n"
     ]
    }
   ],
   "source": [
    "lr.fit(X,y)\n",
    "print(lr.intercept_, lr.coef_)"
   ]
  },
  {
   "cell_type": "code",
   "execution_count": 58,
   "metadata": {},
   "outputs": [],
   "source": [
    "forecast_BTC = lr.predict(X)"
   ]
  },
  {
   "cell_type": "code",
   "execution_count": 59,
   "metadata": {},
   "outputs": [],
   "source": [
    "squared_residuals = np.square(forecast_BTC-y)"
   ]
  },
  {
   "cell_type": "code",
   "execution_count": 60,
   "metadata": {},
   "outputs": [
    {
     "data": {
      "text/plain": [
       "0.025758128555255416"
      ]
     },
     "execution_count": 60,
     "metadata": {},
     "output_type": "execute_result"
    }
   ],
   "source": [
    "MSE = (np.sum(squared_residuals))/len(y)\n",
    "MSE"
   ]
  },
  {
   "cell_type": "code",
   "execution_count": null,
   "metadata": {},
   "outputs": [],
   "source": []
  },
  {
   "cell_type": "code",
   "execution_count": null,
   "metadata": {},
   "outputs": [],
   "source": []
  }
 ],
 "metadata": {
  "kernelspec": {
   "display_name": "Python 3",
   "language": "python",
   "name": "python3"
  },
  "language_info": {
   "codemirror_mode": {
    "name": "ipython",
    "version": 3
   },
   "file_extension": ".py",
   "mimetype": "text/x-python",
   "name": "python",
   "nbconvert_exporter": "python",
   "pygments_lexer": "ipython3",
   "version": "3.8.8"
  }
 },
 "nbformat": 4,
 "nbformat_minor": 4
}
